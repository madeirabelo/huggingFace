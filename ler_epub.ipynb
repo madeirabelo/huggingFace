{
  "nbformat": 4,
  "nbformat_minor": 0,
  "metadata": {
    "colab": {
      "name": "ler_epub.ipynb",
      "provenance": [],
      "collapsed_sections": [],
      "authorship_tag": "ABX9TyM8i/hEm0UGcf3giDQE/9tB",
      "include_colab_link": true
    },
    "kernelspec": {
      "name": "python3",
      "display_name": "Python 3"
    },
    "language_info": {
      "name": "python"
    }
  },
  "cells": [
    {
      "cell_type": "markdown",
      "metadata": {
        "id": "view-in-github",
        "colab_type": "text"
      },
      "source": [
        "<a href=\"https://colab.research.google.com/github/madeirabelo/huggingFace/blob/main/ler_epub.ipynb\" target=\"_parent\"><img src=\"https://colab.research.google.com/assets/colab-badge.svg\" alt=\"Open In Colab\"/></a>"
      ]
    },
    {
      "cell_type": "code",
      "execution_count": null,
      "metadata": {
        "colab": {
          "base_uri": "https://localhost:8080/"
        },
        "id": "c36pmGjJfbEd",
        "outputId": "cf2ff011-4918-46b4-c6c8-531730f40f77"
      },
      "outputs": [
        {
          "output_type": "stream",
          "name": "stdout",
          "text": [
            "Collecting ebooklib\n",
            "  Downloading EbookLib-0.17.1.tar.gz (111 kB)\n",
            "\u001b[?25l\r\u001b[K     |███                             | 10 kB 15.1 MB/s eta 0:00:01\r\u001b[K     |█████▉                          | 20 kB 18.1 MB/s eta 0:00:01\r\u001b[K     |████████▉                       | 30 kB 18.8 MB/s eta 0:00:01\r\u001b[K     |███████████▊                    | 40 kB 21.7 MB/s eta 0:00:01\r\u001b[K     |██████████████▊                 | 51 kB 23.7 MB/s eta 0:00:01\r\u001b[K     |█████████████████▋              | 61 kB 26.6 MB/s eta 0:00:01\r\u001b[K     |████████████████████▋           | 71 kB 26.3 MB/s eta 0:00:01\r\u001b[K     |███████████████████████▌        | 81 kB 25.5 MB/s eta 0:00:01\r\u001b[K     |██████████████████████████▍     | 92 kB 25.6 MB/s eta 0:00:01\r\u001b[K     |█████████████████████████████▍  | 102 kB 25.8 MB/s eta 0:00:01\r\u001b[K     |████████████████████████████████| 111 kB 25.8 MB/s \n",
            "\u001b[?25hRequirement already satisfied: lxml in /usr/local/lib/python3.7/dist-packages (from ebooklib) (4.2.6)\n",
            "Requirement already satisfied: six in /usr/local/lib/python3.7/dist-packages (from ebooklib) (1.15.0)\n",
            "Building wheels for collected packages: ebooklib\n",
            "  Building wheel for ebooklib (setup.py) ... \u001b[?25l\u001b[?25hdone\n",
            "  Created wheel for ebooklib: filename=EbookLib-0.17.1-py3-none-any.whl size=38183 sha256=59ed1b1a68475f4a5560fdb755345876f48a8d6670e15683375e46baf812ef00\n",
            "  Stored in directory: /root/.cache/pip/wheels/43/39/fd/db4f652431a55d28472ba7f5f7c9a8efad03b97f443a48ea2f\n",
            "Successfully built ebooklib\n",
            "Installing collected packages: ebooklib\n",
            "Successfully installed ebooklib-0.17.1\n",
            "Requirement already satisfied: PyDrive in /usr/local/lib/python3.7/dist-packages (1.3.1)\n",
            "Requirement already satisfied: PyYAML>=3.0 in /usr/local/lib/python3.7/dist-packages (from PyDrive) (3.13)\n",
            "Requirement already satisfied: google-api-python-client>=1.2 in /usr/local/lib/python3.7/dist-packages (from PyDrive) (1.12.8)\n",
            "Requirement already satisfied: oauth2client>=4.0.0 in /usr/local/lib/python3.7/dist-packages (from PyDrive) (4.1.3)\n",
            "Requirement already satisfied: six<2dev,>=1.13.0 in /usr/local/lib/python3.7/dist-packages (from google-api-python-client>=1.2->PyDrive) (1.15.0)\n",
            "Requirement already satisfied: google-api-core<2dev,>=1.21.0 in /usr/local/lib/python3.7/dist-packages (from google-api-python-client>=1.2->PyDrive) (1.26.3)\n",
            "Requirement already satisfied: google-auth-httplib2>=0.0.3 in /usr/local/lib/python3.7/dist-packages (from google-api-python-client>=1.2->PyDrive) (0.0.4)\n",
            "Requirement already satisfied: google-auth>=1.16.0 in /usr/local/lib/python3.7/dist-packages (from google-api-python-client>=1.2->PyDrive) (1.35.0)\n",
            "Requirement already satisfied: uritemplate<4dev,>=3.0.0 in /usr/local/lib/python3.7/dist-packages (from google-api-python-client>=1.2->PyDrive) (3.0.1)\n",
            "Requirement already satisfied: httplib2<1dev,>=0.15.0 in /usr/local/lib/python3.7/dist-packages (from google-api-python-client>=1.2->PyDrive) (0.17.4)\n",
            "Requirement already satisfied: protobuf>=3.12.0 in /usr/local/lib/python3.7/dist-packages (from google-api-core<2dev,>=1.21.0->google-api-python-client>=1.2->PyDrive) (3.17.3)\n",
            "Requirement already satisfied: setuptools>=40.3.0 in /usr/local/lib/python3.7/dist-packages (from google-api-core<2dev,>=1.21.0->google-api-python-client>=1.2->PyDrive) (57.4.0)\n",
            "Requirement already satisfied: packaging>=14.3 in /usr/local/lib/python3.7/dist-packages (from google-api-core<2dev,>=1.21.0->google-api-python-client>=1.2->PyDrive) (21.3)\n",
            "Requirement already satisfied: pytz in /usr/local/lib/python3.7/dist-packages (from google-api-core<2dev,>=1.21.0->google-api-python-client>=1.2->PyDrive) (2018.9)\n",
            "Requirement already satisfied: googleapis-common-protos<2.0dev,>=1.6.0 in /usr/local/lib/python3.7/dist-packages (from google-api-core<2dev,>=1.21.0->google-api-python-client>=1.2->PyDrive) (1.53.0)\n",
            "Requirement already satisfied: requests<3.0.0dev,>=2.18.0 in /usr/local/lib/python3.7/dist-packages (from google-api-core<2dev,>=1.21.0->google-api-python-client>=1.2->PyDrive) (2.23.0)\n",
            "Requirement already satisfied: pyasn1-modules>=0.2.1 in /usr/local/lib/python3.7/dist-packages (from google-auth>=1.16.0->google-api-python-client>=1.2->PyDrive) (0.2.8)\n",
            "Requirement already satisfied: rsa<5,>=3.1.4 in /usr/local/lib/python3.7/dist-packages (from google-auth>=1.16.0->google-api-python-client>=1.2->PyDrive) (4.8)\n",
            "Requirement already satisfied: cachetools<5.0,>=2.0.0 in /usr/local/lib/python3.7/dist-packages (from google-auth>=1.16.0->google-api-python-client>=1.2->PyDrive) (4.2.4)\n",
            "Requirement already satisfied: pyasn1>=0.1.7 in /usr/local/lib/python3.7/dist-packages (from oauth2client>=4.0.0->PyDrive) (0.4.8)\n",
            "Requirement already satisfied: pyparsing!=3.0.5,>=2.0.2 in /usr/local/lib/python3.7/dist-packages (from packaging>=14.3->google-api-core<2dev,>=1.21.0->google-api-python-client>=1.2->PyDrive) (3.0.6)\n",
            "Requirement already satisfied: idna<3,>=2.5 in /usr/local/lib/python3.7/dist-packages (from requests<3.0.0dev,>=2.18.0->google-api-core<2dev,>=1.21.0->google-api-python-client>=1.2->PyDrive) (2.10)\n",
            "Requirement already satisfied: chardet<4,>=3.0.2 in /usr/local/lib/python3.7/dist-packages (from requests<3.0.0dev,>=2.18.0->google-api-core<2dev,>=1.21.0->google-api-python-client>=1.2->PyDrive) (3.0.4)\n",
            "Requirement already satisfied: urllib3!=1.25.0,!=1.25.1,<1.26,>=1.21.1 in /usr/local/lib/python3.7/dist-packages (from requests<3.0.0dev,>=2.18.0->google-api-core<2dev,>=1.21.0->google-api-python-client>=1.2->PyDrive) (1.24.3)\n",
            "Requirement already satisfied: certifi>=2017.4.17 in /usr/local/lib/python3.7/dist-packages (from requests<3.0.0dev,>=2.18.0->google-api-core<2dev,>=1.21.0->google-api-python-client>=1.2->PyDrive) (2021.10.8)\n"
          ]
        }
      ],
      "source": [
        "!pip install ebooklib\n",
        "!pip install PyDrive\n"
      ]
    },
    {
      "cell_type": "code",
      "source": [
        "#Para escrever um ficheiro\n",
        "from pydrive.auth import GoogleAuth\n",
        "from pydrive.drive import GoogleDrive\n",
        "from google.colab import auth\n",
        "from oauth2client.client import GoogleCredentials\n",
        "auth.authenticate_user()\n",
        "gauth = GoogleAuth()\n",
        "gauth.credentials = GoogleCredentials.get_application_default()\n",
        "#drive.CreateFile({'parents': [{'id': '### folder ID ###'}]})\n",
        "drive = GoogleDrive(gauth)\n",
        "file_epub = drive.CreateFile({'title': 'Neal_Stephenson_-_Termination_Shock.txt', 'parents' : [{'id':'1FSJ6h9LNqE270aY8tCDBEFEZ3D06rd8Z'}]})  # Create GoogleDriveFile instance with title 'Hello.txt'.\n",
        "file_epub.SetContentString('Hello World 1!') # Set content of the file from given string.\n",
        "file_epub.GetContentFile('Neal_Stephenson_-_Termination_Shock.txt')\n",
        "update = file_epub.GetContentString() + \"\\ntest\"\n",
        "file_epub.SetContentString(update)\n",
        "file_epub.Upload()"
      ],
      "metadata": {
        "id": "d6W7IWmm3wuA"
      },
      "execution_count": null,
      "outputs": []
    },
    {
      "cell_type": "code",
      "source": [
        "import re\n",
        "from bs4 import BeautifulSoup\n",
        "from gensim.utils import tokenize\n",
        "\n",
        "from ebooklib import epub\n",
        "from pydrive.auth import GoogleAuth\n",
        "from pydrive.drive import GoogleDrive\n",
        "from google.colab import auth\n",
        "from oauth2client.client import GoogleCredentials\n",
        "auth.authenticate_user()\n",
        "gauth = GoogleAuth()\n",
        "gauth.credentials = GoogleCredentials.get_application_default()\n",
        "drive = GoogleDrive(gauth)\n",
        "# Authorize with your Google ID, and paste in the link that comes up and press Enter!\n",
        "downloaded = drive.CreateFile({'id':\"1Fq-C5HTqxh97aXW5YTGo4ZRrrIa1zI7i\"})   # replace the id with id of file you want to access\n",
        "downloaded.GetContentFile('Neal_Stephenson_-_Termination_Shock.epub')        # replace the file name with your file\n",
        "f = open('Neal_Stephenson_-_Termination_Shock.epub', 'r+b')\n",
        "book = epub.read_epub(f)\n",
        "ITEM_UNKNOWN      = 0\n",
        "ITEM_IMAGE        = 1\n",
        "ITEM_STYLE        = 2\n",
        "ITEM_SCRIPT       = 3\n",
        "ITEM_NAVIGATION   = 4\n",
        "ITEM_VECTOR       = 5\n",
        "ITEM_FONT         = 6\n",
        "ITEM_VIDEO        = 7\n",
        "ITEM_AUDIO        = 8\n",
        "ITEM_DOCUMENT     = 9\n",
        "ITEM_COVER        = 10\n",
        "\n",
        "#print(\"000000000000000000000000000000\")\n",
        "paragraphs = []\n",
        "capitulo_livro = [0]\n",
        "capitulo = -1\n",
        "content = [BeautifulSoup(x.content, 'html.parser') for x in book.get_items_of_type(ITEM_DOCUMENT)]\n",
        "\n",
        "for c in content:\n",
        "    #print(\"1111111111111111111111111111111\")\n",
        "    #print(c)\n",
        "    capitulo = capitulo + 1\n",
        "    #paragraph_parse_tags = ['p', 'ol', 'ul']\n",
        "    paragraph_parse_tags = ['p', 'ol_', 'ul_']\n",
        "    #paragraphs += f\"capitulo={capitulo}\"\n",
        "    old_capitulo = 0 \n",
        "    capitulo_rch = 0\n",
        "    paragraphs = []\n",
        "    for tag in paragraph_parse_tags:       \n",
        "        for element in c.find_all(tag):\n",
        "            if element.a != None:\n",
        "              if \"#rch\" in element.a['href']:\n",
        "                rch = re.search(\"(\\d*$)\",element.a['href'])\n",
        "                capitulo_rch = int(rch.group(1))           # capitulo visto no texto\n",
        "            #try:\n",
        "              #if element.name != 'nav':\n",
        "            #print(element)   #DEBUG            \n",
        "            text = element.get_text(' ', strip=True).encode('ascii', \"ignore\")\n",
        "            text_str = '\\n' + text.decode('UTF-8')\n",
        "            try:\n",
        "              if element.span['class'] == ['dropcap']:\n",
        "                text_str = text_str.replace(\" \", \"\", 1)    \n",
        "            except:\n",
        "              pass\n",
        "            paragraphs += [text_str] \n",
        "            #print(text_str)  #DEBUG \n",
        "            #except:\n",
        "            #    pass\n",
        "    if capitulo_rch != 0:           \n",
        "      capitulo_livro.insert(capitulo_rch, paragraphs)\n",
        "drive = GoogleDrive(gauth)\n",
        "file_epub = drive.CreateFile({'title': 'Neal_Stephenson_-_Termination_Shock.txt', 'parents' : [{'id':'1FSJ6h9LNqE270aY8tCDBEFEZ3D06rd8Z'}]})  # Create GoogleDriveFile instance with title 'Hello.txt'.\n",
        "file_epub.SetContentString(\"Neal Stephenson - Termination Shock\") # Set content of the file from given string.\n",
        "for p in capitulo_livro:\n",
        "  if p != 0:\n",
        "    #print (p)\n",
        "    #file_epub.SetContentString(p) # Set content of the file from given string.\n",
        "    file_epub.GetContentFile('Neal_Stephenson_-_Termination_Shock.txt')\n",
        "    update = file_epub.GetContentString() + '\\n' + ' '.join(p)\n",
        "    file_epub.SetContentString(update)\n",
        "    file_epub.Upload()\n",
        "\n",
        " \n",
        "######################################\n",
        "# TODO alimentar o sistema de resumo \n",
        "######################################\n",
        "\n",
        "\n",
        "  #print(content)\n",
        "  #break\n",
        "  #if item.get_type() == ITEM_DOCUMENT :\n",
        "  #    print('==================================')\n",
        "  #    print('NAME : ', item.get_name())\n",
        "  #    print('----------------------------------')\n",
        "  #    print(item.get_content())\n",
        "      #print('==================================')"
      ],
      "metadata": {
        "id": "ck4vpPBzf7a4"
      },
      "execution_count": null,
      "outputs": []
    },
    {
      "cell_type": "code",
      "source": [
        ""
      ],
      "metadata": {
        "id": "9enmb6qcgpfQ"
      },
      "execution_count": null,
      "outputs": []
    },
    {
      "cell_type": "code",
      "source": [
        "from IPython.display import display, Javascript\n",
        "from google.colab.output import eval_js\n",
        "from base64 import b64decode\n",
        "\n",
        "def take_photo(filename='photo.jpg', quality=0.8):\n",
        "  js = Javascript('''\n",
        "    async function takePhoto(quality) {\n",
        "      const div = document.createElement('div');\n",
        "      const capture = document.createElement('button');\n",
        "      capture.textContent = 'Capture';\n",
        "      div.appendChild(capture);\n",
        "\n",
        "      const video = document.createElement('video');\n",
        "      video.style.display = 'block';\n",
        "      const stream = await navigator.mediaDevices.getUserMedia({video: true});\n",
        "\n",
        "      document.body.appendChild(div);\n",
        "      div.appendChild(video);\n",
        "      video.srcObject = stream;\n",
        "      await video.play();\n",
        "\n",
        "      // Resize the output to fit the video element.\n",
        "      google.colab.output.setIframeHeight(document.documentElement.scrollHeight, true);\n",
        "\n",
        "      // Wait for Capture to be clicked.\n",
        "      await new Promise((resolve) => capture.onclick = resolve);\n",
        "\n",
        "      const canvas = document.createElement('canvas');\n",
        "      canvas.width = video.videoWidth;\n",
        "      canvas.height = video.videoHeight;\n",
        "      canvas.getContext('2d').drawImage(video, 0, 0);\n",
        "      stream.getVideoTracks()[0].stop();\n",
        "      div.remove();\n",
        "      return canvas.toDataURL('image/jpeg', quality);\n",
        "    }\n",
        "    ''')\n",
        "  display(js)\n",
        "  data = eval_js('takePhoto({})'.format(quality))\n",
        "  binary = b64decode(data.split(',')[1])\n",
        "  with open(filename, 'wb') as f:\n",
        "    f.write(binary)\n",
        "  return filename"
      ],
      "metadata": {
        "id": "7irAYZxN95g3"
      },
      "execution_count": null,
      "outputs": []
    },
    {
      "cell_type": "code",
      "source": [
        "from IPython.display import Image\n",
        "try:\n",
        "  filename = take_photo()\n",
        "  print('Saved to {}'.format(filename))\n",
        "  \n",
        "  # Show the image which was just taken.\n",
        "  display(Image(filename))\n",
        "except Exception as err:\n",
        "  # Errors will be thrown if the user does not have a webcam or if they do not\n",
        "  # grant the page permission to access it.\n",
        "  print(str(err))"
      ],
      "metadata": {
        "id": "mxhs9RuT95g7"
      },
      "execution_count": null,
      "outputs": []
    }
  ]
}