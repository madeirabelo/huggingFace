{
  "cells": [
    {
      "cell_type": "markdown",
      "metadata": {
        "id": "view-in-github",
        "colab_type": "text"
      },
      "source": [
        "<a href=\"https://colab.research.google.com/github/madeirabelo/huggingFace/blob/main/huggingFace_summaritation_pegasus.ipynb\" target=\"_parent\"><img src=\"https://colab.research.google.com/assets/colab-badge.svg\" alt=\"Open In Colab\"/></a>"
      ]
    },
    {
      "cell_type": "code",
      "execution_count": null,
      "metadata": {
        "colab": {
          "base_uri": "https://localhost:8080/"
        },
        "id": "Es8RTFSJb-wS",
        "outputId": "88e8f1d5-83a8-4aa5-e05e-aeb962173579"
      },
      "outputs": [
        {
          "output_type": "stream",
          "name": "stdout",
          "text": [
            "Looking in links: https://download.pytorch.org/whl/lts/1.8/torch_lts.html\n",
            "Collecting torc\n",
            "  Downloading torc-0.1.1.tar.gz (140 kB)\n",
            "\u001b[K     |████████████████████████████████| 140 kB 5.2 MB/s \n",
            "\u001b[?25hRequirement already satisfied: torchvision in /usr/local/lib/python3.7/dist-packages (0.11.1+cu111)\n",
            "Requirement already satisfied: torchaudio in /usr/local/lib/python3.7/dist-packages (0.10.0+cu111)\n",
            "Requirement already satisfied: numpy in /usr/local/lib/python3.7/dist-packages (from torc) (1.19.5)\n",
            "Requirement already satisfied: scipy in /usr/local/lib/python3.7/dist-packages (from torc) (1.4.1)\n",
            "Requirement already satisfied: torch==1.10.0 in /usr/local/lib/python3.7/dist-packages (from torchvision) (1.10.0+cu111)\n",
            "Requirement already satisfied: pillow!=8.3.0,>=5.3.0 in /usr/local/lib/python3.7/dist-packages (from torchvision) (7.1.2)\n",
            "Requirement already satisfied: typing-extensions in /usr/local/lib/python3.7/dist-packages (from torch==1.10.0->torchvision) (3.10.0.2)\n",
            "Building wheels for collected packages: torc\n",
            "  Building wheel for torc (setup.py) ... \u001b[?25l\u001b[?25hdone\n",
            "  Created wheel for torc: filename=torc-0.1.1-py3-none-any.whl size=11913 sha256=2cb3f03f9ce45428ee1f3297daf2a181f3e1e5df6fb902b3d8c5b8f231d8361c\n",
            "  Stored in directory: /root/.cache/pip/wheels/ee/67/cd/1655ea0785e8fc862df98deea0af6780136cbe64d263134700\n",
            "Successfully built torc\n",
            "Installing collected packages: torc\n",
            "Successfully installed torc-0.1.1\n",
            "Collecting transformers\n",
            "  Downloading transformers-4.15.0-py3-none-any.whl (3.4 MB)\n",
            "\u001b[K     |████████████████████████████████| 3.4 MB 5.2 MB/s \n",
            "\u001b[?25hRequirement already satisfied: requests in /usr/local/lib/python3.7/dist-packages (from transformers) (2.23.0)\n",
            "Requirement already satisfied: numpy>=1.17 in /usr/local/lib/python3.7/dist-packages (from transformers) (1.19.5)\n",
            "Collecting huggingface-hub<1.0,>=0.1.0\n",
            "  Downloading huggingface_hub-0.2.1-py3-none-any.whl (61 kB)\n",
            "\u001b[K     |████████████████████████████████| 61 kB 505 kB/s \n",
            "\u001b[?25hRequirement already satisfied: packaging>=20.0 in /usr/local/lib/python3.7/dist-packages (from transformers) (21.3)\n",
            "Collecting sacremoses\n",
            "  Downloading sacremoses-0.0.46-py3-none-any.whl (895 kB)\n",
            "\u001b[K     |████████████████████████████████| 895 kB 47.6 MB/s \n",
            "\u001b[?25hRequirement already satisfied: importlib-metadata in /usr/local/lib/python3.7/dist-packages (from transformers) (4.8.2)\n",
            "Collecting tokenizers<0.11,>=0.10.1\n",
            "  Downloading tokenizers-0.10.3-cp37-cp37m-manylinux_2_5_x86_64.manylinux1_x86_64.manylinux_2_12_x86_64.manylinux2010_x86_64.whl (3.3 MB)\n",
            "\u001b[K     |████████████████████████████████| 3.3 MB 38.3 MB/s \n",
            "\u001b[?25hRequirement already satisfied: filelock in /usr/local/lib/python3.7/dist-packages (from transformers) (3.4.0)\n",
            "Collecting pyyaml>=5.1\n",
            "  Downloading PyYAML-6.0-cp37-cp37m-manylinux_2_5_x86_64.manylinux1_x86_64.manylinux_2_12_x86_64.manylinux2010_x86_64.whl (596 kB)\n",
            "\u001b[K     |████████████████████████████████| 596 kB 54.7 MB/s \n",
            "\u001b[?25hRequirement already satisfied: regex!=2019.12.17 in /usr/local/lib/python3.7/dist-packages (from transformers) (2019.12.20)\n",
            "Requirement already satisfied: tqdm>=4.27 in /usr/local/lib/python3.7/dist-packages (from transformers) (4.62.3)\n",
            "Requirement already satisfied: typing-extensions>=3.7.4.3 in /usr/local/lib/python3.7/dist-packages (from huggingface-hub<1.0,>=0.1.0->transformers) (3.10.0.2)\n",
            "Requirement already satisfied: pyparsing!=3.0.5,>=2.0.2 in /usr/local/lib/python3.7/dist-packages (from packaging>=20.0->transformers) (3.0.6)\n",
            "Requirement already satisfied: zipp>=0.5 in /usr/local/lib/python3.7/dist-packages (from importlib-metadata->transformers) (3.6.0)\n",
            "Requirement already satisfied: urllib3!=1.25.0,!=1.25.1,<1.26,>=1.21.1 in /usr/local/lib/python3.7/dist-packages (from requests->transformers) (1.24.3)\n",
            "Requirement already satisfied: chardet<4,>=3.0.2 in /usr/local/lib/python3.7/dist-packages (from requests->transformers) (3.0.4)\n",
            "Requirement already satisfied: certifi>=2017.4.17 in /usr/local/lib/python3.7/dist-packages (from requests->transformers) (2021.10.8)\n",
            "Requirement already satisfied: idna<3,>=2.5 in /usr/local/lib/python3.7/dist-packages (from requests->transformers) (2.10)\n",
            "Requirement already satisfied: joblib in /usr/local/lib/python3.7/dist-packages (from sacremoses->transformers) (1.1.0)\n",
            "Requirement already satisfied: click in /usr/local/lib/python3.7/dist-packages (from sacremoses->transformers) (7.1.2)\n",
            "Requirement already satisfied: six in /usr/local/lib/python3.7/dist-packages (from sacremoses->transformers) (1.15.0)\n",
            "Installing collected packages: pyyaml, tokenizers, sacremoses, huggingface-hub, transformers\n",
            "  Attempting uninstall: pyyaml\n",
            "    Found existing installation: PyYAML 3.13\n",
            "    Uninstalling PyYAML-3.13:\n",
            "      Successfully uninstalled PyYAML-3.13\n",
            "Successfully installed huggingface-hub-0.2.1 pyyaml-6.0 sacremoses-0.0.46 tokenizers-0.10.3 transformers-4.15.0\n",
            "Collecting sentencepiece\n",
            "  Downloading sentencepiece-0.1.96-cp37-cp37m-manylinux_2_17_x86_64.manylinux2014_x86_64.whl (1.2 MB)\n",
            "\u001b[K     |████████████████████████████████| 1.2 MB 5.1 MB/s \n",
            "\u001b[?25hInstalling collected packages: sentencepiece\n",
            "Successfully installed sentencepiece-0.1.96\n"
          ]
        }
      ],
      "source": [
        "# Install PyTorch\n",
        "!pip install torc torchvision torchaudio -f https://download.pytorch.org/whl/lts/1.8/torch_lts.html\n",
        "!pip install transformers\n",
        "!pip install sentencepiece"
      ]
    },
    {
      "cell_type": "code",
      "execution_count": null,
      "metadata": {
        "id": "mic8PB-goadh"
      },
      "outputs": [],
      "source": [
        "# Importing dependencies from transformers\n",
        "from transformers import PegasusForConditionalGeneration, PegasusTokenizer\n",
        "# Load tokenizer \n",
        "model_name = 'google/pegasus-xsum'\n",
        "tokenizer = PegasusTokenizer.from_pretrained(model_name)\n",
        "# Load model \n",
        "model = PegasusForConditionalGeneration.from_pretrained(\"google/pegasus-xsum\")"
      ]
    },
    {
      "cell_type": "code",
      "execution_count": null,
      "metadata": {
        "id": "cMuoutkBbzo4"
      },
      "outputs": [],
      "source": [
        "# Download Example file\n",
        "#!wget example1.epub https://pt1lib.org/dl/17857813/a29da8\n",
        "#!wget /resources/data/Example1.txt https://s3-api.us-geo.objectstorage.softlayer.net/cf-courses-data/CognitiveClass/PY0101EN/labs/example1.txt"
      ]
    },
    {
      "cell_type": "code",
      "execution_count": null,
      "metadata": {
        "id": "-BTOzfBLcgkI"
      },
      "outputs": [],
      "source": [
        "\n",
        "# Open file using with\n",
        "#import ebooklib\n",
        "#from ebooklib import epub\n",
        "#example1 = \"example1.epub\"\n",
        "#book = epub.read_epub(example1)\n",
        "\n",
        "#with open(example1, \"r\") as file1:\n",
        "#    FileContent = file1.read()\n",
        "#    print(FileContent)"
      ]
    },
    {
      "cell_type": "code",
      "execution_count": null,
      "metadata": {
        "colab": {
          "base_uri": "https://localhost:8080/"
        },
        "id": "x90oU9JqPZlB",
        "outputId": "109931f0-05aa-4312-fabd-7b095005c3d5"
      },
      "outputs": [
        {
          "name": "stdout",
          "output_type": "stream",
          "text": [
            "Requirement already satisfied: ebooklib in /usr/local/lib/python3.7/dist-packages (0.17.1)\n",
            "Requirement already satisfied: six in /usr/local/lib/python3.7/dist-packages (from ebooklib) (1.15.0)\n",
            "Requirement already satisfied: lxml in /usr/local/lib/python3.7/dist-packages (from ebooklib) (4.2.6)\n",
            "Requirement already satisfied: PyDrive in /usr/local/lib/python3.7/dist-packages (1.3.1)\n",
            "Requirement already satisfied: google-api-python-client>=1.2 in /usr/local/lib/python3.7/dist-packages (from PyDrive) (1.12.8)\n",
            "Requirement already satisfied: PyYAML>=3.0 in /usr/local/lib/python3.7/dist-packages (from PyDrive) (6.0)\n",
            "Requirement already satisfied: oauth2client>=4.0.0 in /usr/local/lib/python3.7/dist-packages (from PyDrive) (4.1.3)\n",
            "Requirement already satisfied: google-api-core<2dev,>=1.21.0 in /usr/local/lib/python3.7/dist-packages (from google-api-python-client>=1.2->PyDrive) (1.26.3)\n",
            "Requirement already satisfied: uritemplate<4dev,>=3.0.0 in /usr/local/lib/python3.7/dist-packages (from google-api-python-client>=1.2->PyDrive) (3.0.1)\n",
            "Requirement already satisfied: google-auth>=1.16.0 in /usr/local/lib/python3.7/dist-packages (from google-api-python-client>=1.2->PyDrive) (1.35.0)\n",
            "Requirement already satisfied: httplib2<1dev,>=0.15.0 in /usr/local/lib/python3.7/dist-packages (from google-api-python-client>=1.2->PyDrive) (0.17.4)\n",
            "Requirement already satisfied: google-auth-httplib2>=0.0.3 in /usr/local/lib/python3.7/dist-packages (from google-api-python-client>=1.2->PyDrive) (0.0.4)\n",
            "Requirement already satisfied: six<2dev,>=1.13.0 in /usr/local/lib/python3.7/dist-packages (from google-api-python-client>=1.2->PyDrive) (1.15.0)\n",
            "Requirement already satisfied: packaging>=14.3 in /usr/local/lib/python3.7/dist-packages (from google-api-core<2dev,>=1.21.0->google-api-python-client>=1.2->PyDrive) (21.3)\n",
            "Requirement already satisfied: setuptools>=40.3.0 in /usr/local/lib/python3.7/dist-packages (from google-api-core<2dev,>=1.21.0->google-api-python-client>=1.2->PyDrive) (57.4.0)\n",
            "Requirement already satisfied: pytz in /usr/local/lib/python3.7/dist-packages (from google-api-core<2dev,>=1.21.0->google-api-python-client>=1.2->PyDrive) (2018.9)\n",
            "Requirement already satisfied: protobuf>=3.12.0 in /usr/local/lib/python3.7/dist-packages (from google-api-core<2dev,>=1.21.0->google-api-python-client>=1.2->PyDrive) (3.17.3)\n",
            "Requirement already satisfied: googleapis-common-protos<2.0dev,>=1.6.0 in /usr/local/lib/python3.7/dist-packages (from google-api-core<2dev,>=1.21.0->google-api-python-client>=1.2->PyDrive) (1.53.0)\n",
            "Requirement already satisfied: requests<3.0.0dev,>=2.18.0 in /usr/local/lib/python3.7/dist-packages (from google-api-core<2dev,>=1.21.0->google-api-python-client>=1.2->PyDrive) (2.23.0)\n",
            "Requirement already satisfied: rsa<5,>=3.1.4 in /usr/local/lib/python3.7/dist-packages (from google-auth>=1.16.0->google-api-python-client>=1.2->PyDrive) (4.8)\n",
            "Requirement already satisfied: cachetools<5.0,>=2.0.0 in /usr/local/lib/python3.7/dist-packages (from google-auth>=1.16.0->google-api-python-client>=1.2->PyDrive) (4.2.4)\n",
            "Requirement already satisfied: pyasn1-modules>=0.2.1 in /usr/local/lib/python3.7/dist-packages (from google-auth>=1.16.0->google-api-python-client>=1.2->PyDrive) (0.2.8)\n",
            "Requirement already satisfied: pyasn1>=0.1.7 in /usr/local/lib/python3.7/dist-packages (from oauth2client>=4.0.0->PyDrive) (0.4.8)\n",
            "Requirement already satisfied: pyparsing!=3.0.5,>=2.0.2 in /usr/local/lib/python3.7/dist-packages (from packaging>=14.3->google-api-core<2dev,>=1.21.0->google-api-python-client>=1.2->PyDrive) (3.0.6)\n",
            "Requirement already satisfied: urllib3!=1.25.0,!=1.25.1,<1.26,>=1.21.1 in /usr/local/lib/python3.7/dist-packages (from requests<3.0.0dev,>=2.18.0->google-api-core<2dev,>=1.21.0->google-api-python-client>=1.2->PyDrive) (1.24.3)\n",
            "Requirement already satisfied: idna<3,>=2.5 in /usr/local/lib/python3.7/dist-packages (from requests<3.0.0dev,>=2.18.0->google-api-core<2dev,>=1.21.0->google-api-python-client>=1.2->PyDrive) (2.10)\n",
            "Requirement already satisfied: chardet<4,>=3.0.2 in /usr/local/lib/python3.7/dist-packages (from requests<3.0.0dev,>=2.18.0->google-api-core<2dev,>=1.21.0->google-api-python-client>=1.2->PyDrive) (3.0.4)\n",
            "Requirement already satisfied: certifi>=2017.4.17 in /usr/local/lib/python3.7/dist-packages (from requests<3.0.0dev,>=2.18.0->google-api-core<2dev,>=1.21.0->google-api-python-client>=1.2->PyDrive) (2021.10.8)\n"
          ]
        }
      ],
      "source": [
        "# Importação de EBOOK\n",
        "!pip install ebooklib\n",
        "!pip install PyDrive\n"
      ]
    },
    {
      "cell_type": "code",
      "execution_count": null,
      "metadata": {
        "colab": {
          "background_save": true
        },
        "id": "RjJsarY5PfAP"
      },
      "outputs": [],
      "source": [
        "import re\n",
        "from bs4 import BeautifulSoup\n",
        "from gensim.utils import tokenize\n",
        "\n",
        "from ebooklib import epub\n",
        "from pydrive.auth import GoogleAuth\n",
        "from pydrive.drive import GoogleDrive\n",
        "from google.colab import auth\n",
        "from oauth2client.client import GoogleCredentials\n",
        "auth.authenticate_user()\n",
        "gauth = GoogleAuth()\n",
        "gauth.credentials = GoogleCredentials.get_application_default()\n",
        "drive = GoogleDrive(gauth)\n",
        "# Authorize with your Google ID, and paste in the link that comes up and press Enter!\n",
        "downloaded = drive.CreateFile({'id':\"1Fq-C5HTqxh97aXW5YTGo4ZRrrIa1zI7i\"})   # replace the id with id of file you want to access\n",
        "downloaded.GetContentFile('Neal_Stephenson_-_Termination_Shock.epub')        # replace the file name with your file\n",
        "f = open('Neal_Stephenson_-_Termination_Shock.epub', 'r+b')\n",
        "book = epub.read_epub(f)\n",
        "ITEM_UNKNOWN      = 0\n",
        "ITEM_IMAGE        = 1\n",
        "ITEM_STYLE        = 2\n",
        "ITEM_SCRIPT       = 3\n",
        "ITEM_NAVIGATION   = 4\n",
        "ITEM_VECTOR       = 5\n",
        "ITEM_FONT         = 6\n",
        "ITEM_VIDEO        = 7\n",
        "ITEM_AUDIO        = 8\n",
        "ITEM_DOCUMENT     = 9\n",
        "ITEM_COVER        = 10\n",
        "\n",
        "#print(\"000000000000000000000000000000\")\n",
        "paragraphs = []\n",
        "capitulo_livro = [0]\n",
        "capitulo = -1\n",
        "content = [BeautifulSoup(x.content, 'html.parser') for x in book.get_items_of_type(ITEM_DOCUMENT)]\n",
        "\n",
        "for c in content:\n",
        "    #print(\"1111111111111111111111111111111\")\n",
        "    capitulo = capitulo + 1\n",
        "    #paragraph_parse_tags = ['p', 'ol', 'ul']\n",
        "    paragraph_parse_tags = ['nav' , 'p', 'ol_', 'ul_']\n",
        "    #paragraphs += f\"capitulo={capitulo}\"\n",
        "    old_capitulo = 0 \n",
        "    capitulo_rch = 0\n",
        "    paragraphs = []\n",
        "    for tag in paragraph_parse_tags:       \n",
        "        for element in c.find_all(tag):\n",
        "            if element.a != None:\n",
        "              if \"#rch\" in element.a['href']:\n",
        "                rch = re.search(\"(\\d*$)\",element.a['href'])\n",
        "                capitulo_rch = int(rch.group(1))           # capitulo visto no texto           \n",
        "            text = element.get_text(' ', strip=True).encode('ascii', \"ignore\")\n",
        "            text_str = '\\n' + text.decode('UTF-8')\n",
        "            try:\n",
        "              if element.span['class'] == ['dropcap']:\n",
        "                text_str = text_str.replace(\" \", \"\", 1)    \n",
        "            except:\n",
        "              pass\n",
        "            paragraphs += [text_str] \n",
        "    if capitulo_rch != 0:           \n",
        "      capitulo_livro.insert(capitulo_rch, paragraphs)\n",
        "drive = GoogleDrive(gauth)\n",
        "file_epub = drive.CreateFile({'title': 'Neal_Stephenson_-_Termination_Shock.txt', 'parents' : [{'id':'1FSJ6h9LNqE270aY8tCDBEFEZ3D06rd8Z'}]})  # Create GoogleDriveFile instance with title 'Hello.txt'.\n",
        "file_epub.SetContentString(\"Neal Stephenson - Termination Shock\") # Set content of the file from given string.\n",
        "for p in capitulo_livro:\n",
        "  if p != 0:\n",
        "    #print (p)\n",
        "    #file_epub.SetContentString(p) # Set content of the file from given string.\n",
        "    file_epub.GetContentFile('Neal_Stephenson_-_Termination_Shock.txt')\n",
        "    update = file_epub.GetContentString() + '\\n' + ' '.join(p)\n",
        "    file_epub.SetContentString(update)\n",
        "    file_epub.Upload()\n",
        "\n",
        "file_epub = drive.CreateFile({'title': 'Neal_Stephenson_-_Termination_Shock_RESUMO.txt', 'parents' : [{'id':'1FSJ6h9LNqE270aY8tCDBEFEZ3D06rd8Z'}]})  # Create GoogleDriveFile instance with title 'Hello.txt'.\n",
        "file_epub.SetContentString(\"Neal Stephenson - Termination Shock RESUMO\") # Set content of the file from given string.\n",
        "for p in capitulo_livro:\n",
        "  if p != 0:\n",
        "    #print (p)\n",
        "    #file_epub.SetContentString(p) # Set content of the file from given string.\n",
        "    text = ' '.join(p) # para trasnformaar em string\n",
        "    # Create tokens - number representation of our text\n",
        "    tokens = tokenizer(text, truncation=True, padding=\"longest\", return_tensors=\"pt\")\n",
        "    # Input tokens\n",
        "    #tokens\n",
        "    # Summarize \n",
        "    summary = model.generate(**tokens)\n",
        "    # Output summary tokens\n",
        "    #summary[0]\n",
        "    # Decode summary\n",
        "    #tokenizer.decode(summary[0])\n",
        "    file_epub.GetContentFile('Neal_Stephenson_-_Termination_Shock_RESUMO.txt')\n",
        "    update = file_epub.GetContentString() + '\\n' + tokenizer.decode(summary[0])\n",
        "    file_epub.SetContentString(update)\n",
        "    file_epub.Upload()    \n",
        "\n",
        "#    \n",
        "#    if capitulo_rch != 0:           \n",
        "#      capitulo_livro.insert(capitulo_rch, paragraphs)\n",
        "#for p in capitulo_livro[1]:\n",
        "#  if p != 0:\n",
        "#    text = p\n",
        "#    # Create tokens - number representation of our text\n",
        "#    tokens = tokenizer(text, truncation=True, padding=\"longest\", return_tensors=\"pt\")\n",
        "#    # Input tokens\n",
        "#    tokens\n",
        "#    # Summarize \n",
        "#    summary = model.generate(**tokens)\n",
        "#    # Output summary tokens\n",
        "#    summary[0]\n",
        "#    # Decode summary\n",
        "#    tokenizer.decode(summary[0])"
      ]
    }
  ],
  "metadata": {
    "colab": {
      "name": "huggingFace_summaritation_pegasus.ipynb",
      "provenance": [],
      "authorship_tag": "ABX9TyO0AJewjNM72DoXpNXOzvac",
      "include_colab_link": true
    },
    "kernelspec": {
      "display_name": "Python 3",
      "name": "python3"
    },
    "language_info": {
      "name": "python"
    }
  },
  "nbformat": 4,
  "nbformat_minor": 0
}